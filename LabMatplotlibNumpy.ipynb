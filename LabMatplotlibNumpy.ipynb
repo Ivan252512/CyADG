{
 "cells": [
  {
   "cell_type": "code",
   "execution_count": 3,
   "metadata": {
    "collapsed": false
   },
   "outputs": [],
   "source": [
    "import csv\n",
    "import ast\n",
    "import numpy as np\n",
    "import pandas as pd\n",
    "import matplotlib\n",
    "import matplotlib.pyplot as plt\n",
    "%matplotlib inline\n",
    "from datetime import datetime\n",
    "\n",
    "def readFromFile(fileName, fix):\n",
    "    \"\"\"This function reads a csv file and returns the content of the file as alist\"\"\"\n",
    "    myfile = open(fileName, 'r')\n",
    "    reader = csv.reader(myfile,delimiter='|',quoting=csv.QUOTE_NONE)\n",
    "        \n",
    "    myL = list(reader)\n",
    "    if fix:\n",
    "        return [ast.literal_eval(x) for x in myL[0]]\n",
    "    else:\n",
    "        res = []\n",
    "        for val in myL[0]:\n",
    "            t = val.replace(\"datetime.datetime\",\"\")\n",
    "            res.append(ast.literal_eval(t))\n",
    "        return res\n",
    "\n",
    "\n",
    "# Reads the stations [0]-> id and [1]-> name\n",
    "file=\"data/estaciones.csv\"\n",
    "stations = readFromFile(file,True)\n",
    "\n",
    "# Reads the pm10 data for 2015 \n",
    "file=\"data/pm10.csv\"\n",
    "temp = pd.read_csv(file)\n",
    "pm10 = temp.values[:,2:5]\n"
   ]
  },
  {
   "cell_type": "code",
   "execution_count": 4,
   "metadata": {
    "collapsed": false
   },
   "outputs": [
    {
     "name": "stdout",
     "output_type": "stream",
     "text": [
      "['Ajusco Medio', 'Acolman', 'Ajusco', 'Aragon', 'Atizapan', 'Azcapotzalco', 'Benito Juarez', 'Camarones', 'Centro de Ciencias de la Atmosfera', 'Cerro de la Estrella', 'Museo Tecnologico de la CFE', 'Chalco', 'CORENA', 'Coyoacan', 'Cuajimalpa', 'Cuitlahuac', 'Cuautitlan', 'Diconsa', 'Ecoguardas Ajusco', 'Exconv. Desierto Leones', 'FES Acatlan', 'Felipe Ángeles', 'Hangares', 'Hospital General de Mexico', 'Legaria', 'Inst. Mexicano del Petroleo', 'Iztacalco', 'Lab. de Analisis Ambiental', 'Lagunilla', 'Los Laureles', 'Lomas', 'La Presa', 'La Villa', 'Museo de la Cd. de Mexico', 'Merced', 'Metro Insurgentes', 'Montecillo', 'Milpa Alta', 'Netzahualcoyotl', 'Nezahualcoyotl', 'Pedregal', 'La Perla', 'Plateros', 'Portales', 'San Agustin', 'Santa fe', 'Secretaria de Hacienda', 'San Juan Aragon', 'San Nicolas Totolapan', 'Santa Ursula', 'Tacuba', 'Tlahuac', 'Taxqueña', 'Cerro del Tepeyac', 'Tlalnepantla', 'Tultitlan', 'Tlalpan', 'UAM Xochimilco', 'UAM Iztapalapa', 'Unidad Movil', 'Vallejo', 'Villa de las Flores', 'Xalostoc', 'Xochimilco', 'Miguel Hidalgo', 'Investigaciones Nucleares', 'Gustavo A. Madero']\n"
     ]
    }
   ],
   "source": [
    "def problem1for(estaciones):\n",
    "    nombres=[]\n",
    "    for i in range(0,len(estaciones)):\n",
    "        nombres.append(estaciones[i][1])\n",
    "    return nombres\n",
    "print(problem1for(stations))"
   ]
  },
  {
   "cell_type": "code",
   "execution_count": 5,
   "metadata": {
    "collapsed": false
   },
   "outputs": [
    {
     "name": "stdout",
     "output_type": "stream",
     "text": [
      "[['2015-01-01 00:00:00' '84.0' 'ACO']\n",
      " ['2015-01-01 00:00:00' '122.0' 'ATI']\n",
      " ['2015-01-01 00:00:00' '95.0' 'CAM']\n",
      " ['2015-01-01 00:00:00' '86.0' 'CHO']\n",
      " ['2015-01-01 00:00:00' '186.0' 'CUT']\n",
      " ['2015-01-01 00:00:00' '153.0' 'FAC']\n",
      " ['2015-01-01 00:00:00' '117.0' 'HGM']\n",
      " ['2015-01-01 00:00:00' '155.0' 'IZT']\n",
      " ['2015-01-01 00:00:00' '123.0' 'MER']\n",
      " ['2015-01-01 00:00:00' '159.0' 'PED']\n",
      " ['2015-01-01 00:00:00' '133.0' 'SAG']\n",
      " ['2015-01-01 00:00:00' '114.0' 'SFE']\n",
      " ['2015-01-01 00:00:00' '188.0' 'SUR']\n",
      " ['2015-01-01 00:00:00' '208.0' 'TAH']\n",
      " ['2015-01-01 00:00:00' '175.0' 'TLI']\n",
      " ['2015-01-01 00:00:00' '116.0' 'UIZ']\n",
      " ['2015-01-01 00:00:00' '211.0' 'VIF']\n",
      " ['2015-01-01 00:00:00' '165.0' 'MGH']\n",
      " ['2015-01-01 01:00:00' '110.0' 'ACO']\n",
      " ['2015-01-01 01:00:00' '179.0' 'ATI']\n",
      " ['2015-01-01 01:00:00' '135.0' 'CAM']\n",
      " ['2015-01-01 01:00:00' '88.0' 'CHO']\n",
      " ['2015-01-01 01:00:00' '177.0' 'CUT']\n",
      " ['2015-01-01 01:00:00' '199.0' 'FAC']\n",
      " ['2015-01-01 01:00:00' '139.0' 'HGM']\n",
      " ['2015-01-01 01:00:00' '249.0' 'IZT']\n",
      " ['2015-01-01 01:00:00' '113.0' 'MER']\n",
      " ['2015-01-01 01:00:00' '178.0' 'PED']\n",
      " ['2015-01-01 01:00:00' '176.0' 'SAG']\n",
      " ['2015-01-01 01:00:00' '113.0' 'SFE']\n",
      " ['2015-01-01 01:00:00' '180.0' 'SUR']\n",
      " ['2015-01-01 01:00:00' '115.0' 'TAH']\n",
      " ['2015-01-01 01:00:00' '231.0' 'TLI']\n",
      " ['2015-01-01 01:00:00' '138.0' 'UIZ']\n",
      " ['2015-01-01 01:00:00' '246.0' 'VIF']\n",
      " ['2015-01-01 01:00:00' '293.0' 'MGH']\n",
      " ['2015-01-01 02:00:00' '140.0' 'ACO']\n",
      " ['2015-01-01 02:00:00' '153.0' 'ATI']\n",
      " ['2015-01-01 02:00:00' '166.0' 'CAM']\n",
      " ['2015-01-01 02:00:00' '120.0' 'CHO']\n",
      " ['2015-01-01 02:00:00' '223.0' 'CUT']\n",
      " ['2015-01-01 02:00:00' '209.0' 'FAC']\n",
      " ['2015-01-01 02:00:00' '145.0' 'HGM']\n",
      " ['2015-01-01 02:00:00' '203.0' 'IZT']\n",
      " ['2015-01-01 02:00:00' '118.0' 'MER']\n",
      " ['2015-01-01 02:00:00' '168.0' 'PED']\n",
      " ['2015-01-01 02:00:00' '154.0' 'SAG']\n",
      " ['2015-01-01 02:00:00' '114.0' 'SFE']\n",
      " ['2015-01-01 02:00:00' '164.0' 'SUR']\n",
      " ['2015-01-01 02:00:00' '152.0' 'TAH']\n",
      " ['2015-01-01 02:00:00' '246.0' 'TLI']\n",
      " ['2015-01-01 02:00:00' '177.0' 'UIZ']\n",
      " ['2015-01-01 02:00:00' '183.0' 'VIF']\n",
      " ['2015-01-01 02:00:00' '266.0' 'MGH']\n",
      " ['2015-01-01 03:00:00' '131.0' 'ACO']\n",
      " ['2015-01-01 03:00:00' '119.0' 'ATI']\n",
      " ['2015-01-01 03:00:00' '168.0' 'CAM']\n",
      " ['2015-01-01 03:00:00' '90.0' 'CHO']\n",
      " ['2015-01-01 03:00:00' '225.0' 'CUT']\n",
      " ['2015-01-01 03:00:00' '177.0' 'FAC']\n",
      " ['2015-01-01 03:00:00' '173.0' 'HGM']\n",
      " ['2015-01-01 03:00:00' '174.0' 'IZT']\n",
      " ['2015-01-01 03:00:00' '167.0' 'PED']\n",
      " ['2015-01-01 03:00:00' '168.0' 'SAG']\n",
      " ['2015-01-01 03:00:00' '107.0' 'SFE']\n",
      " ['2015-01-01 03:00:00' '123.0' 'SUR']\n",
      " ['2015-01-01 03:00:00' '161.0' 'TAH']\n",
      " ['2015-01-01 03:00:00' '210.0' 'TLI']\n",
      " ['2015-01-01 03:00:00' '151.0' 'UIZ']\n",
      " ['2015-01-01 03:00:00' '134.0' 'VIF']\n",
      " ['2015-01-01 03:00:00' '178.0' 'MGH']\n",
      " ['2015-01-01 04:00:00' '151.0' 'ACO']\n",
      " ['2015-01-01 04:00:00' '98.0' 'ATI']\n",
      " ['2015-01-01 04:00:00' '142.0' 'CAM']\n",
      " ['2015-01-01 04:00:00' '117.0' 'CHO']\n",
      " ['2015-01-01 04:00:00' '147.0' 'CUT']\n",
      " ['2015-01-01 04:00:00' '197.0' 'FAC']\n",
      " ['2015-01-01 04:00:00' '158.0' 'HGM']\n",
      " ['2015-01-01 04:00:00' '135.0' 'IZT']\n",
      " ['2015-01-01 04:00:00' '161.0' 'PED']\n",
      " ['2015-01-01 04:00:00' '167.0' 'SAG']\n",
      " ['2015-01-01 04:00:00' '106.0' 'SFE']\n",
      " ['2015-01-01 04:00:00' '121.0' 'SUR']\n",
      " ['2015-01-01 04:00:00' '146.0' 'TAH']\n",
      " ['2015-01-01 04:00:00' '242.0' 'TLI']\n",
      " ['2015-01-01 04:00:00' '176.0' 'UIZ']\n",
      " ['2015-01-01 04:00:00' '278.0' 'VIF']\n",
      " ['2015-01-01 04:00:00' '146.0' 'MGH']\n",
      " ['2015-01-01 05:00:00' '181.0' 'ACO']\n",
      " ['2015-01-01 05:00:00' '99.0' 'ATI']\n",
      " ['2015-01-01 05:00:00' '141.0' 'CAM']\n",
      " ['2015-01-01 05:00:00' '150.0' 'CHO']\n",
      " ['2015-01-01 05:00:00' '187.0' 'CUT']\n",
      " ['2015-01-01 05:00:00' '190.0' 'FAC']\n",
      " ['2015-01-01 05:00:00' '153.0' 'HGM']\n",
      " ['2015-01-01 05:00:00' '139.0' 'IZT']\n",
      " ['2015-01-01 05:00:00' '159.0' 'MER']\n",
      " ['2015-01-01 05:00:00' '147.0' 'PED']\n",
      " ['2015-01-01 05:00:00' '192.0' 'SAG']\n",
      " ['2015-01-01 05:00:00' '109.0' 'SFE']]\n"
     ]
    }
   ],
   "source": [
    "def problem2for(pm,n):\n",
    "    rows=[]\n",
    "    res=[]\n",
    "    for i in range(0,n):\n",
    "        for j in range(0,3):\n",
    "            rows.append(pm[i][j])\n",
    "    for idx in range(1,n+1):\n",
    "      res.append(rows[3*(idx-1):3*idx])\n",
    "    return np.array(res)\n",
    "print(problem2for(pm10,100))"
   ]
  },
  {
   "cell_type": "code",
   "execution_count": 6,
   "metadata": {
    "collapsed": false
   },
   "outputs": [
    {
     "name": "stdout",
     "output_type": "stream",
     "text": [
      "    Unnamed: 0        0                    1      2    3\n",
      "0            0  9630874  2015-01-01 00:00:00   84.0  ACO\n",
      "1            1  9630875  2015-01-01 00:00:00  122.0  ATI\n",
      "2            2  9630876  2015-01-01 00:00:00   95.0  CAM\n",
      "3            3  9630877  2015-01-01 00:00:00   86.0  CHO\n",
      "4            4  9630878  2015-01-01 00:00:00  186.0  CUT\n",
      "5            5  9630879  2015-01-01 00:00:00  153.0  FAC\n",
      "6            6  9630880  2015-01-01 00:00:00  117.0  HGM\n",
      "7            7  9630881  2015-01-01 00:00:00  155.0  IZT\n",
      "8            8  9630882  2015-01-01 00:00:00  123.0  MER\n",
      "9            9  9630883  2015-01-01 00:00:00  159.0  PED\n",
      "10          10  9630884  2015-01-01 00:00:00  133.0  SAG\n",
      "11          11  9630885  2015-01-01 00:00:00  114.0  SFE\n",
      "12          12  9630886  2015-01-01 00:00:00  188.0  SUR\n",
      "13          13  9630887  2015-01-01 00:00:00  208.0  TAH\n",
      "14          14  9630888  2015-01-01 00:00:00  175.0  TLI\n",
      "15          15  9630889  2015-01-01 00:00:00  116.0  UIZ\n",
      "16          16  9630890  2015-01-01 00:00:00  211.0  VIF\n",
      "17          17  9630891  2015-01-01 00:00:00  165.0  MGH\n",
      "18          18  9630892  2015-01-01 01:00:00  110.0  ACO\n",
      "19          19  9630893  2015-01-01 01:00:00  179.0  ATI\n",
      "20          20  9630894  2015-01-01 01:00:00  135.0  CAM\n",
      "21          21  9630895  2015-01-01 01:00:00   88.0  CHO\n",
      "22          22  9630896  2015-01-01 01:00:00  177.0  CUT\n",
      "23          23  9630897  2015-01-01 01:00:00  199.0  FAC\n",
      "24          24  9630898  2015-01-01 01:00:00  139.0  HGM\n",
      "25          25  9630899  2015-01-01 01:00:00  249.0  IZT\n",
      "26          26  9630900  2015-01-01 01:00:00  113.0  MER\n",
      "27          27  9630901  2015-01-01 01:00:00  178.0  PED\n",
      "28          28  9630902  2015-01-01 01:00:00  176.0  SAG\n",
      "29          29  9630903  2015-01-01 01:00:00  113.0  SFE\n",
      "..         ...      ...                  ...    ...  ...\n",
      "70          70  9630944  2015-01-01 03:00:00  178.0  MGH\n",
      "71          71  9630945  2015-01-01 04:00:00  151.0  ACO\n",
      "72          72  9630946  2015-01-01 04:00:00   98.0  ATI\n",
      "73          73  9630947  2015-01-01 04:00:00  142.0  CAM\n",
      "74          74  9630948  2015-01-01 04:00:00  117.0  CHO\n",
      "75          75  9630949  2015-01-01 04:00:00  147.0  CUT\n",
      "76          76  9630950  2015-01-01 04:00:00  197.0  FAC\n",
      "77          77  9630951  2015-01-01 04:00:00  158.0  HGM\n",
      "78          78  9630952  2015-01-01 04:00:00  135.0  IZT\n",
      "79          79  9630953  2015-01-01 04:00:00  161.0  PED\n",
      "80          80  9630954  2015-01-01 04:00:00  167.0  SAG\n",
      "81          81  9630955  2015-01-01 04:00:00  106.0  SFE\n",
      "82          82  9630956  2015-01-01 04:00:00  121.0  SUR\n",
      "83          83  9630957  2015-01-01 04:00:00  146.0  TAH\n",
      "84          84  9630958  2015-01-01 04:00:00  242.0  TLI\n",
      "85          85  9630959  2015-01-01 04:00:00  176.0  UIZ\n",
      "86          86  9630960  2015-01-01 04:00:00  278.0  VIF\n",
      "87          87  9630961  2015-01-01 04:00:00  146.0  MGH\n",
      "88          88  9630962  2015-01-01 05:00:00  181.0  ACO\n",
      "89          89  9630963  2015-01-01 05:00:00   99.0  ATI\n",
      "90          90  9630964  2015-01-01 05:00:00  141.0  CAM\n",
      "91          91  9630965  2015-01-01 05:00:00  150.0  CHO\n",
      "92          92  9630966  2015-01-01 05:00:00  187.0  CUT\n",
      "93          93  9630967  2015-01-01 05:00:00  190.0  FAC\n",
      "94          94  9630968  2015-01-01 05:00:00  153.0  HGM\n",
      "95          95  9630969  2015-01-01 05:00:00  139.0  IZT\n",
      "96          96  9630970  2015-01-01 05:00:00  159.0  MER\n",
      "97          97  9630971  2015-01-01 05:00:00  147.0  PED\n",
      "98          98  9630972  2015-01-01 05:00:00  192.0  SAG\n",
      "99          99  9630973  2015-01-01 05:00:00  109.0  SFE\n",
      "\n",
      "[100 rows x 5 columns]\n"
     ]
    }
   ],
   "source": [
    "def problem2head(pm,n):\n",
    "    return temp.head(n) \n",
    "print(problem2head(pm10,100))"
   ]
  },
  {
   "cell_type": "code",
   "execution_count": 7,
   "metadata": {
    "collapsed": false
   },
   "outputs": [
    {
     "name": "stdout",
     "output_type": "stream",
     "text": [
      "[  84.  122.   95. ...,  171.   72.   77.]\n"
     ]
    }
   ],
   "source": [
    "def problem3for(pm):\n",
    "    rows=[]\n",
    "    res=[]\n",
    "    for i in range(0,len(pm)):\n",
    "        rows.append(pm[i][1])\n",
    "    return np.array(rows)\n",
    "print(problem3for(pm10))"
   ]
  },
  {
   "cell_type": "code",
   "execution_count": 8,
   "metadata": {
    "collapsed": false,
    "scrolled": true
   },
   "outputs": [
    {
     "name": "stdout",
     "output_type": "stream",
     "text": [
      "[datetime.datetime(2015, 1, 1, 0, 0) datetime.datetime(2015, 1, 1, 0, 0)\n",
      " datetime.datetime(2015, 1, 1, 0, 0) ...,\n",
      " datetime.datetime(2015, 12, 31, 23, 0)\n",
      " datetime.datetime(2015, 12, 31, 23, 0)\n",
      " datetime.datetime(2015, 12, 31, 23, 0)]\n"
     ]
    }
   ],
   "source": [
    "def problem4(pm):\n",
    "    rows=[]\n",
    "    datet=[]\n",
    "    for i in range(0,len(pm)):\n",
    "        rows.append(pm[i])\n",
    "    for j in range(0,len(pm)):\n",
    "            x = str(rows[j])\n",
    "            datet.append(datetime(int(x[2:6]),int(x[7:9]),int(x[10:13]),int(x[13:15])))\n",
    "    return np.array(datet)\n",
    "print(problem4(pm10))"
   ]
  },
  {
   "cell_type": "code",
   "execution_count": 9,
   "metadata": {
    "collapsed": false
   },
   "outputs": [
    {
     "data": {
      "image/png": "[encoded data removed]",
      "text/plain": [
       "<matplotlib.figure.Figure at 0x7fd24bee9a20>"
      ]
     },
     "metadata": {},
     "output_type": "display_data"
    },
    {
     "data": {
      "text/plain": [
       "<matplotlib.figure.Figure at 0x7fd249726a90>"
      ]
     },
     "metadata": {},
     "output_type": "display_data"
    }
   ],
   "source": [
    "def problem5(list1,list2):\n",
    "    x = list1    \n",
    "    y = list2\n",
    "    plt.title('Ozone in Mexico City 2015')\n",
    "    plt.xlabel('Datos')\n",
    "    plt.ylabel('ppb (partes por billon)')\n",
    "    plt.plot(x,y,color='r')\n",
    "    fig = plt.figure(figsize=(30,8))\n",
    "    fig.savefig('ozoneall1.png', dpi = 400)\n",
    "    return plt.show()\n",
    "problem5(problem4(pm10),problem3for(pm10))"
   ]
  },
  {
   "cell_type": "code",
   "execution_count": 10,
   "metadata": {
    "collapsed": false
   },
   "outputs": [
    {
     "data": {
      "image/png": "[encoded data removed]",
      "text/plain": [
       "<matplotlib.figure.Figure at 0x7fd24e6d9c50>"
      ]
     },
     "metadata": {},
     "output_type": "display_data"
    },
    {
     "data": {
      "text/plain": [
       "<matplotlib.figure.Figure at 0x7fd24a327b70>"
      ]
     },
     "metadata": {},
     "output_type": "display_data"
    }
   ],
   "source": [
    "def problem6(list1,list2):\n",
    "    x=[]\n",
    "    y=[]\n",
    "    for i in range(24865,39663):\n",
    "        x.append(list1[i])   \n",
    "        y.append(list2[i])\n",
    "    x=np.array(x)\n",
    "    y=np.array(y)\n",
    "    plt.title('Ozone in Mexico City 2015')\n",
    "    plt.xlabel('Datos')\n",
    "    plt.ylabel('ppb (partes por billon)')\n",
    "    plt.plot(x,y,color='r')\n",
    "    fig = plt.figure(figsize=(30,8))\n",
    "    fig.savefig('ozoneall.png', dpi = 400)\n",
    "    return plt.show()\n",
    "problem6(problem4(pm10),problem3for(pm10))"
   ]
  },
  {
   "cell_type": "code",
   "execution_count": 11,
   "metadata": {
    "collapsed": false
   },
   "outputs": [
    {
     "data": {
      "image/png": "[encoded data removed]",
      "text/plain": [
       "<matplotlib.figure.Figure at 0x7fd249ea3320>"
      ]
     },
     "metadata": {},
     "output_type": "display_data"
    }
   ],
   "source": [
    "def problem7(x,y):\n",
    "    enemin=0\n",
    "    enemax=0\n",
    "    febmin=0\n",
    "    febmax=0\n",
    "    marmax=0\n",
    "    abrmax=0\n",
    "    maymax=0\n",
    "    junmax=0\n",
    "    julmax=0\n",
    "    agomax=0\n",
    "    sepmax=0\n",
    "    octmax=0\n",
    "    novmax=0\n",
    "    dicmax=len(x)\n",
    "    for date in x:\n",
    "        if date.month==1:\n",
    "            enemax+=1\n",
    "        elif date.month==2:\n",
    "            febmin=enemax\n",
    "            febmax+=1\n",
    "        elif date.month==3:\n",
    "            marmin=febmax+febmin\n",
    "            marmax+=1\n",
    "        elif date.month==4:\n",
    "            abrmin=marmin+marmax\n",
    "            abrmax+=1\n",
    "        elif date.month==5:\n",
    "            maymin=abrmax+abrmin\n",
    "            maymax+=1\n",
    "        elif date.month==6:\n",
    "            junmin=maymax+maymin\n",
    "            junmax+=1\n",
    "        elif date.month==7:\n",
    "            julmin=junmax+junmin\n",
    "            julmax+=1\n",
    "        elif date.month==8:\n",
    "            agomin=julmin+julmax\n",
    "            agomax+=1\n",
    "        elif date.month==9:\n",
    "            sepmin=agomax+agomin\n",
    "            sepmax+=1\n",
    "        elif date.month==10:\n",
    "            octmin=sepmin+sepmax\n",
    "            octmax+=1\n",
    "        elif date.month==11:\n",
    "            novmin=octmax+octmin\n",
    "            novmax+=1\n",
    "        else:\n",
    "            dicmin=novmax+novmin\n",
    "    eney=np.mean(y[enemin:febmin])\n",
    "    feby=np.mean(y[febmin:marmin])\n",
    "    mary=np.mean(y[marmin:abrmin])\n",
    "    abry=np.mean(y[abrmin:maymin])\n",
    "    mayy=np.mean(y[maymin:junmin])\n",
    "    juny=np.mean(y[junmin:julmin])\n",
    "    july=np.mean(y[julmin:agomin])\n",
    "    agoy=np.mean(y[agomin:sepmin])\n",
    "    sepy=np.mean(y[sepmin:octmin])\n",
    "    octy=np.mean(y[octmin:novmin])\n",
    "    novy=np.mean(y[novmin:dicmin])\n",
    "    dicy=np.mean(y[dicmin:dicmax])\n",
    "    ejy=np.array([eney,feby,mary,abry,mayy,juny,july,agoy,sepy,octy,novy,dicy])\n",
    "    ejx=np.array([range(len(ejy))])\n",
    "    fig=plt.figure(figsize=(30,8))\n",
    "    plt.bar(range(len(ejy)),ejy,color='red', align='center')\n",
    "    plt.xticks(range(12),('Ene','Feb','Mar','Abr','May','Jun','Jul','Ago','Sep','Oct','Nov','Dic'))\n",
    "    plt.title('Mean pm10 in Mexico City 2015 by month', fontsize=22,color='green')\n",
    "    plt.xlabel('Month',fontsize=18,color='violet')\n",
    "    plt.ylabel('ppb',fontsize=18,color='blue')\n",
    "    plt.ylim(20,70)\n",
    "    plt.savefig('ozoneall2.png',dpi=400,figsize=(30,8))\n",
    "    return plt.show()\n",
    "problem7(problem4(pm10),problem3for(pm10))"
   ]
  },
  {
   "cell_type": "code",
   "execution_count": null,
   "metadata": {
    "collapsed": true
   },
   "outputs": [],
   "source": []
  }
 ],
 "metadata": {
  "anaconda-cloud": {},
  "kernelspec": {
   "display_name": "Python 3",
   "language": "python",
   "name": "python3"
  },
  "language_info": {
   "codemirror_mode": {
    "name": "ipython",
    "version": 3
   },
   "file_extension": ".py",
   "mimetype": "text/x-python",
   "name": "python",
   "nbconvert_exporter": "python",
   "pygments_lexer": "ipython3",
   "version": "3.6.0"
  }
 },
 "nbformat": 4,
 "nbformat_minor": 0
}
