{
 "cells": [
  {
   "cell_type": "code",
   "execution_count": 1,
   "metadata": {},
   "outputs": [
    {
     "name": "stdout",
     "output_type": "stream",
     "text": [
      "ivan\n",
      "pineda\n",
      "7\n",
      "0\n",
      "ivan_pineda@unam.mx\n",
      "7\n",
      "9\n"
     ]
    }
   ],
   "source": [
    "class Students(object):\n",
    "    extrapoints = 0\n",
    "    def __init__ (self,firstName,lastName,currentGrade):\n",
    "        self.firstName=firstName    \n",
    "        self.lastName=lastName\n",
    "        self.currentGrade=currentGrade  \n",
    "    def extrapoint(self,extrapoints):\n",
    "        return(self.extrapoints)\n",
    "    \n",
    "    def createEmail(self):\n",
    "        print(self.firstName+\"_\"+self.lastName+\"@unam.mx\")\n",
    "    def show(self):\n",
    "        print(self.currentGrade)\n",
    "    def addPoints (self,extrapoints):\n",
    "        print(self.currentGrade+2) \n",
    "student1 = Students(\"ivan\", \"pineda\",7)\n",
    "\n",
    "print(student1.firstName)\n",
    "print(student1.lastName) \n",
    "print(student1.currentGrade) \n",
    "print(student1.extrapoint(0))\n",
    "student1.createEmail()\n",
    "student1.show()\n",
    "student1.addPoints (2)  "
   ]
  },
  {
   "cell_type": "code",
   "execution_count": null,
   "metadata": {
    "collapsed": true
   },
   "outputs": [],
   "source": []
  }
 ],
 "metadata": {
  "kernelspec": {
   "display_name": "Python 3",
   "language": "python",
   "name": "python3"
  },
  "language_info": {
   "codemirror_mode": {
    "name": "ipython",
    "version": 3
   },
   "file_extension": ".py",
   "mimetype": "text/x-python",
   "name": "python",
   "nbconvert_exporter": "python",
   "pygments_lexer": "ipython3",
   "version": "3.6.1"
  }
 },
 "nbformat": 4,
 "nbformat_minor": 2
}
